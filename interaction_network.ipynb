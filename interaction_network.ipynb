{
 "cells": [
  {
   "cell_type": "markdown",
   "id": "de6d64e2",
   "metadata": {},
   "source": [
    "## Interaction network template\n",
    "Produces an interaction list from a ```.mymridon``` experiment file and saves it as a csv, which can be further analyzed in the optional part or exported into other software such as RStudio.  \n",
    "This notebook is a walk trough a sample usage of the following:\n",
    "* the py-myrmidon library ([Documentation](https://formicidae-tracker.github.io/myrmidon/latest/))\n",
    "* the facetnet library ([Documentation](https://c4science.ch/source/facet_unil/))\n"
   ]
  },
  {
   "cell_type": "code",
   "execution_count": 1,
   "id": "a5238445",
   "metadata": {},
   "outputs": [],
   "source": [
    "import py_fort_myrmidon as fm\n",
    "import pandas as pd\n",
    "import numpy as np  # Fundamental math library in python. Here used only for convience: to save the csv.\n",
    "from datetime import datetime, timedelta  # For convenient handling of time and date\n",
    "import networkx as nx  # Optional: for general graph analysis and plotting\n",
    "import csv\n",
    "import facetnet  # Optional: for community analysis\n",
    "import matplotlib.pyplot as plt  # Optional: for plorring\n",
    "# Optional: makes plots interactive:\n",
    "%matplotlib widget"
   ]
  },
  {
   "cell_type": "code",
   "execution_count": 3,
   "id": "2e648f0d",
   "metadata": {
    "scrolled": true
   },
   "outputs": [],
   "source": [
    "f_myrmidon = \"/media/work/common_data/SNG/SNG_1_enlarged.myrmidon\"\n",
    "exp = fm.Experiment.Open(f_myrmidon)\n",
    "t_start = datetime(2021, 11, 2, 0, 1).astimezone(tz=None)  # <year, month, day, hour, minute>\n",
    "t_end = datetime(2021, 11, 8, 23, 59).astimezone(tz=None)"
   ]
  },
  {
   "cell_type": "markdown",
   "id": "3c99fb0e",
   "metadata": {},
   "source": [
    "The following is an iterator for fort mymrmidon time over days in a period. See Ant metadata template for explanation."
   ]
  },
  {
   "cell_type": "code",
   "execution_count": 4,
   "id": "09448303",
   "metadata": {},
   "outputs": [],
   "source": [
    "def fm_time_range(start_datetime, end_datetime):\n",
    "    for n in range(int((end_datetime - start_datetime).days) + 1):\n",
    "        yield fm.Time(start_datetime + timedelta(n))"
   ]
  },
  {
   "cell_type": "markdown",
   "id": "dabf50ba",
   "metadata": {},
   "source": [
    "A matcher is used to filter interactions of a certain type (\"body part 1 with body part 1\") that were recorded during a user define period from ```t_start``` to ```t_end```. The ```for``` loop takes the ```ant_id``` of both individuals invovled in the interaction and updates the egde weight in the count graph, as well as in the interaction duration graph. The two edge lists are then saved to csv with name that consists of the experiment name and the dates. This is to avoid confusion, any string can serve as a file name."
   ]
  },
  {
   "cell_type": "code",
   "execution_count": 5,
   "id": "da456ba3",
   "metadata": {},
   "outputs": [],
   "source": [
    "m = fm.Matcher.InteractionType(2, 2) # At the moment CHECK EVERY TIME\n",
    "\n",
    "I_interaction = []\n",
    "G_counts = nx.Graph()\n",
    "G_counts.add_nodes_from(exp.Ants.keys())\n",
    "G_seconds = nx.Graph()\n",
    "G_seconds.add_nodes_from(exp.Ants.keys())\n",
    "\n",
    "for t_begin in fm_time_range(t_start, t_end):\n",
    "    interactions = fm.Query.ComputeAntInteractions(exp,\n",
    "                                                   start=t_begin,\n",
    "                                                   end=t_begin.Add(fm.Duration.Parse('24h')),\n",
    "                                                   matcher=m)\n",
    "    for ia in interactions[1]:\n",
    "        I_interaction.append(list(ia.IDs) + [ia.Start, ia.End, ia.Space] + [any((ia.Types[:]==[1,1]).all(1)),\n",
    "                                                                           any((ia.Types[:]==[1,2]).all(1)),\n",
    "                                                                           any((ia.Types[:]==[2,1]).all(1)),\n",
    "                                                                           any((ia.Types[:]==[2,2]).all(1))])\n",
    "\n",
    "with open(\"interaction_list_{}_{}_{}.csv\".format(exp.Name, t_start, t_end),'w') as f:\n",
    "    write=csv.writer(f)\n",
    "    write.writerow(['id1','id2','start','end','space','1-1','1-2','2-1','2-2'])\n",
    "    write.writerows(I_interaction)\n",
    "    "
   ]
  }
 ],
 "metadata": {
  "kernelspec": {
   "display_name": "Python 3 (ipykernel)",
   "language": "python",
   "name": "python3"
  },
  "language_info": {
   "codemirror_mode": {
    "name": "ipython",
    "version": 3
   },
   "file_extension": ".py",
   "mimetype": "text/x-python",
   "name": "python",
   "nbconvert_exporter": "python",
   "pygments_lexer": "ipython3",
   "version": "3.8.12"
  }
 },
 "nbformat": 4,
 "nbformat_minor": 5
}
